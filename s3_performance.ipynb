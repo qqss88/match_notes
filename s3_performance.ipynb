{
 "cells": [
  {
   "cell_type": "code",
   "execution_count": 24,
   "metadata": {
    "collapsed": false
   },
   "outputs": [],
   "source": [
    "import boto3\n",
    "import os\n",
    "from boto3.s3.transfer import TransferConfig\n",
    "from boto3.s3.transfer import S3Transfer\n",
    "from time import time\n",
    "import json\n",
    "\n",
    "\"\"\"\n",
    "reference url:\n",
    "http://stackoverflow.com/questions/34353824/boto3-disable-automatic-multipart-upload\n",
    "\n",
    "\n",
    "\"\"\"\n",
    "\n",
    "myconfig = TransferConfig(\n",
    "\n",
    "    multipart_threshold=9999999999999999, # workaround for 'disable' auto multipart upload\n",
    "    #multipart_threshold=8000000,\n",
    "    max_concurrency=10,\n",
    "    num_download_attempts=10,\n",
    ")\n",
    "\n",
    "def _aws_credentials():\n",
    "    with open('/Users/sunq3/workspace/nci_match/ir_data_api/.s3_config.json') as config_file:\n",
    "        config = json.load(config_file)\n",
    "        return (config['aws_access_key_id'], config['aws_secret_access_key'])\n",
    "\n",
    "#initialize aws credentails for s3 access\n",
    "access_key, secret_key = _aws_credentials()\n",
    "\n",
    "\n",
    "connection = boto3.client(service_name='s3',\n",
    "        region_name='us-east-1',\n",
    "        api_version=None,\n",
    "        use_ssl=True,\n",
    "        verify=True,\n",
    "        aws_access_key_id=access_key,\n",
    "        aws_secret_access_key=secret_key,\n",
    "        aws_session_token=None,\n",
    "        config=None)\n",
    "\n",
    "transfer=S3Transfer(connection,myconfig)\n",
    "\n"
   ]
  },
  {
   "cell_type": "code",
   "execution_count": 25,
   "metadata": {
    "collapsed": true
   },
   "outputs": [],
   "source": [
    "def upload(file_path):\n",
    "    filename = os.path.basename(file_path)\n",
    "    transfer.upload_file(file_path, 'csun1', filename)\n",
    "    print 'done.'\n",
    "    \n",
    "\n"
   ]
  },
  {
   "cell_type": "code",
   "execution_count": 18,
   "metadata": {
    "collapsed": false
   },
   "outputs": [
    {
     "name": "stdout",
     "output_type": "stream",
     "text": [
      "done.\n",
      "consumed: 42.2327740192\n"
     ]
    }
   ],
   "source": [
    "import time \n",
    "\n",
    "start = time.time()\n",
    "upload('/Users/sunq3/match_data/test1.tar')\n",
    "done = time.time()\n",
    "print 'consumed:', done - start"
   ]
  },
  {
   "cell_type": "code",
   "execution_count": null,
   "metadata": {
    "collapsed": false
   },
   "outputs": [],
   "source": [
    "'''\n",
    "no-multi, test1: 163.913408041\n",
    "\n",
    "---------------------------------------------------------------------------\n",
    "ClientError                               Traceback (most recent call last)\n",
    "<ipython-input-26-98b3fd8eec8e> in <module>()\n",
    "      2 \n",
    "      3 start = time.time()\n",
    "----> 4 upload('/Users/sunq3/match_data/test2.tar')\n",
    "      5 done = time.time()\n",
    "      6 print 'consumed:', done - start\n",
    "\n",
    "<ipython-input-25-d58f82bac9ec> in upload(file_path)\n",
    "      1 def upload(file_path):\n",
    "      2     filename = os.path.basename(file_path)\n",
    "----> 3     transfer.upload_file(file_path, 'csun1', filename)\n",
    "      4     print 'done.'\n",
    "      5 \n",
    "\n",
    "/Users/sunq3/anaconda/lib/python2.7/site-packages/boto3/s3/transfer.pyc in upload_file(self, filename, bucket, key, callback, extra_args)\n",
    "    639             self._multipart_upload(filename, bucket, key, callback, extra_args)\n",
    "    640         else:\n",
    "--> 641             self._put_object(filename, bucket, key, callback, extra_args)\n",
    "    642 \n",
    "    643     def _put_object(self, filename, bucket, key, callback, extra_args):\n",
    "\n",
    "/Users/sunq3/anaconda/lib/python2.7/site-packages/boto3/s3/transfer.pyc in _put_object(self, filename, bucket, key, callback, extra_args)\n",
    "    649                                callback=callback) as body:\n",
    "    650             self._client.put_object(Bucket=bucket, Key=key, Body=body,\n",
    "--> 651                                     **extra_args)\n",
    "    652 \n",
    "    653     def download_file(self, bucket, key, filename, extra_args=None,\n",
    "\n",
    "/Users/sunq3/anaconda/lib/python2.7/site-packages/botocore/client.pyc in _api_call(self, *args, **kwargs)\n",
    "    256                     \"%s() only accepts keyword arguments.\" % py_operation_name)\n",
    "    257             # The \"self\" in this scope is referring to the BaseClient.\n",
    "--> 258             return self._make_api_call(operation_name, kwargs)\n",
    "    259 \n",
    "    260         _api_call.__name__ = str(py_operation_name)\n",
    "\n",
    "/Users/sunq3/anaconda/lib/python2.7/site-packages/botocore/client.pyc in _make_api_call(self, operation_name, api_params)\n",
    "    546 \n",
    "    547         if http.status_code >= 300:\n",
    "--> 548             raise ClientError(parsed_response, operation_name)\n",
    "    549         else:\n",
    "    550             return parsed_response\n",
    "\n",
    "ClientError: An error occurred (EntityTooLarge) when calling the PutObject operation: Your proposed upload exceeds the maximum allowed size\n",
    "\n",
    "\n",
    "\n",
    "\n",
    "multi, test1: 42.2327740192\n",
    "multi, test2: 107.91958189\n",
    "multi, test3: 135.046941996\n",
    "multi, test4: 168.786673069\n",
    "multi, test5: 232.330732107\n",
    "multi, test6: 257.369575977\n",
    "\n",
    "\n",
    "\n",
    "'''"
   ]
  },
  {
   "cell_type": "code",
   "execution_count": 26,
   "metadata": {
    "collapsed": false
   },
   "outputs": [
    {
     "ename": "ClientError",
     "evalue": "An error occurred (EntityTooLarge) when calling the PutObject operation: Your proposed upload exceeds the maximum allowed size",
     "output_type": "error",
     "traceback": [
      "\u001b[0;31m---------------------------------------------------------------------------\u001b[0m",
      "\u001b[0;31mClientError\u001b[0m                               Traceback (most recent call last)",
      "\u001b[0;32m<ipython-input-26-98b3fd8eec8e>\u001b[0m in \u001b[0;36m<module>\u001b[0;34m()\u001b[0m\n\u001b[1;32m      2\u001b[0m \u001b[0;34m\u001b[0m\u001b[0m\n\u001b[1;32m      3\u001b[0m \u001b[0mstart\u001b[0m \u001b[0;34m=\u001b[0m \u001b[0mtime\u001b[0m\u001b[0;34m.\u001b[0m\u001b[0mtime\u001b[0m\u001b[0;34m(\u001b[0m\u001b[0;34m)\u001b[0m\u001b[0;34m\u001b[0m\u001b[0m\n\u001b[0;32m----> 4\u001b[0;31m \u001b[0mupload\u001b[0m\u001b[0;34m(\u001b[0m\u001b[0;34m'/Users/sunq3/match_data/test2.tar'\u001b[0m\u001b[0;34m)\u001b[0m\u001b[0;34m\u001b[0m\u001b[0m\n\u001b[0m\u001b[1;32m      5\u001b[0m \u001b[0mdone\u001b[0m \u001b[0;34m=\u001b[0m \u001b[0mtime\u001b[0m\u001b[0;34m.\u001b[0m\u001b[0mtime\u001b[0m\u001b[0;34m(\u001b[0m\u001b[0;34m)\u001b[0m\u001b[0;34m\u001b[0m\u001b[0m\n\u001b[1;32m      6\u001b[0m \u001b[0;32mprint\u001b[0m \u001b[0;34m'consumed:'\u001b[0m\u001b[0;34m,\u001b[0m \u001b[0mdone\u001b[0m \u001b[0;34m-\u001b[0m \u001b[0mstart\u001b[0m\u001b[0;34m\u001b[0m\u001b[0m\n",
      "\u001b[0;32m<ipython-input-25-d58f82bac9ec>\u001b[0m in \u001b[0;36mupload\u001b[0;34m(file_path)\u001b[0m\n\u001b[1;32m      1\u001b[0m \u001b[0;32mdef\u001b[0m \u001b[0mupload\u001b[0m\u001b[0;34m(\u001b[0m\u001b[0mfile_path\u001b[0m\u001b[0;34m)\u001b[0m\u001b[0;34m:\u001b[0m\u001b[0;34m\u001b[0m\u001b[0m\n\u001b[1;32m      2\u001b[0m     \u001b[0mfilename\u001b[0m \u001b[0;34m=\u001b[0m \u001b[0mos\u001b[0m\u001b[0;34m.\u001b[0m\u001b[0mpath\u001b[0m\u001b[0;34m.\u001b[0m\u001b[0mbasename\u001b[0m\u001b[0;34m(\u001b[0m\u001b[0mfile_path\u001b[0m\u001b[0;34m)\u001b[0m\u001b[0;34m\u001b[0m\u001b[0m\n\u001b[0;32m----> 3\u001b[0;31m     \u001b[0mtransfer\u001b[0m\u001b[0;34m.\u001b[0m\u001b[0mupload_file\u001b[0m\u001b[0;34m(\u001b[0m\u001b[0mfile_path\u001b[0m\u001b[0;34m,\u001b[0m \u001b[0;34m'csun1'\u001b[0m\u001b[0;34m,\u001b[0m \u001b[0mfilename\u001b[0m\u001b[0;34m)\u001b[0m\u001b[0;34m\u001b[0m\u001b[0m\n\u001b[0m\u001b[1;32m      4\u001b[0m     \u001b[0;32mprint\u001b[0m \u001b[0;34m'done.'\u001b[0m\u001b[0;34m\u001b[0m\u001b[0m\n\u001b[1;32m      5\u001b[0m \u001b[0;34m\u001b[0m\u001b[0m\n",
      "\u001b[0;32m/Users/sunq3/anaconda/lib/python2.7/site-packages/boto3/s3/transfer.pyc\u001b[0m in \u001b[0;36mupload_file\u001b[0;34m(self, filename, bucket, key, callback, extra_args)\u001b[0m\n\u001b[1;32m    639\u001b[0m             \u001b[0mself\u001b[0m\u001b[0;34m.\u001b[0m\u001b[0m_multipart_upload\u001b[0m\u001b[0;34m(\u001b[0m\u001b[0mfilename\u001b[0m\u001b[0;34m,\u001b[0m \u001b[0mbucket\u001b[0m\u001b[0;34m,\u001b[0m \u001b[0mkey\u001b[0m\u001b[0;34m,\u001b[0m \u001b[0mcallback\u001b[0m\u001b[0;34m,\u001b[0m \u001b[0mextra_args\u001b[0m\u001b[0;34m)\u001b[0m\u001b[0;34m\u001b[0m\u001b[0m\n\u001b[1;32m    640\u001b[0m         \u001b[0;32melse\u001b[0m\u001b[0;34m:\u001b[0m\u001b[0;34m\u001b[0m\u001b[0m\n\u001b[0;32m--> 641\u001b[0;31m             \u001b[0mself\u001b[0m\u001b[0;34m.\u001b[0m\u001b[0m_put_object\u001b[0m\u001b[0;34m(\u001b[0m\u001b[0mfilename\u001b[0m\u001b[0;34m,\u001b[0m \u001b[0mbucket\u001b[0m\u001b[0;34m,\u001b[0m \u001b[0mkey\u001b[0m\u001b[0;34m,\u001b[0m \u001b[0mcallback\u001b[0m\u001b[0;34m,\u001b[0m \u001b[0mextra_args\u001b[0m\u001b[0;34m)\u001b[0m\u001b[0;34m\u001b[0m\u001b[0m\n\u001b[0m\u001b[1;32m    642\u001b[0m \u001b[0;34m\u001b[0m\u001b[0m\n\u001b[1;32m    643\u001b[0m     \u001b[0;32mdef\u001b[0m \u001b[0m_put_object\u001b[0m\u001b[0;34m(\u001b[0m\u001b[0mself\u001b[0m\u001b[0;34m,\u001b[0m \u001b[0mfilename\u001b[0m\u001b[0;34m,\u001b[0m \u001b[0mbucket\u001b[0m\u001b[0;34m,\u001b[0m \u001b[0mkey\u001b[0m\u001b[0;34m,\u001b[0m \u001b[0mcallback\u001b[0m\u001b[0;34m,\u001b[0m \u001b[0mextra_args\u001b[0m\u001b[0;34m)\u001b[0m\u001b[0;34m:\u001b[0m\u001b[0;34m\u001b[0m\u001b[0m\n",
      "\u001b[0;32m/Users/sunq3/anaconda/lib/python2.7/site-packages/boto3/s3/transfer.pyc\u001b[0m in \u001b[0;36m_put_object\u001b[0;34m(self, filename, bucket, key, callback, extra_args)\u001b[0m\n\u001b[1;32m    649\u001b[0m                                callback=callback) as body:\n\u001b[1;32m    650\u001b[0m             self._client.put_object(Bucket=bucket, Key=key, Body=body,\n\u001b[0;32m--> 651\u001b[0;31m                                     **extra_args)\n\u001b[0m\u001b[1;32m    652\u001b[0m \u001b[0;34m\u001b[0m\u001b[0m\n\u001b[1;32m    653\u001b[0m     def download_file(self, bucket, key, filename, extra_args=None,\n",
      "\u001b[0;32m/Users/sunq3/anaconda/lib/python2.7/site-packages/botocore/client.pyc\u001b[0m in \u001b[0;36m_api_call\u001b[0;34m(self, *args, **kwargs)\u001b[0m\n\u001b[1;32m    256\u001b[0m                     \"%s() only accepts keyword arguments.\" % py_operation_name)\n\u001b[1;32m    257\u001b[0m             \u001b[0;31m# The \"self\" in this scope is referring to the BaseClient.\u001b[0m\u001b[0;34m\u001b[0m\u001b[0;34m\u001b[0m\u001b[0m\n\u001b[0;32m--> 258\u001b[0;31m             \u001b[0;32mreturn\u001b[0m \u001b[0mself\u001b[0m\u001b[0;34m.\u001b[0m\u001b[0m_make_api_call\u001b[0m\u001b[0;34m(\u001b[0m\u001b[0moperation_name\u001b[0m\u001b[0;34m,\u001b[0m \u001b[0mkwargs\u001b[0m\u001b[0;34m)\u001b[0m\u001b[0;34m\u001b[0m\u001b[0m\n\u001b[0m\u001b[1;32m    259\u001b[0m \u001b[0;34m\u001b[0m\u001b[0m\n\u001b[1;32m    260\u001b[0m         \u001b[0m_api_call\u001b[0m\u001b[0;34m.\u001b[0m\u001b[0m__name__\u001b[0m \u001b[0;34m=\u001b[0m \u001b[0mstr\u001b[0m\u001b[0;34m(\u001b[0m\u001b[0mpy_operation_name\u001b[0m\u001b[0;34m)\u001b[0m\u001b[0;34m\u001b[0m\u001b[0m\n",
      "\u001b[0;32m/Users/sunq3/anaconda/lib/python2.7/site-packages/botocore/client.pyc\u001b[0m in \u001b[0;36m_make_api_call\u001b[0;34m(self, operation_name, api_params)\u001b[0m\n\u001b[1;32m    546\u001b[0m \u001b[0;34m\u001b[0m\u001b[0m\n\u001b[1;32m    547\u001b[0m         \u001b[0;32mif\u001b[0m \u001b[0mhttp\u001b[0m\u001b[0;34m.\u001b[0m\u001b[0mstatus_code\u001b[0m \u001b[0;34m>=\u001b[0m \u001b[0;36m300\u001b[0m\u001b[0;34m:\u001b[0m\u001b[0;34m\u001b[0m\u001b[0m\n\u001b[0;32m--> 548\u001b[0;31m             \u001b[0;32mraise\u001b[0m \u001b[0mClientError\u001b[0m\u001b[0;34m(\u001b[0m\u001b[0mparsed_response\u001b[0m\u001b[0;34m,\u001b[0m \u001b[0moperation_name\u001b[0m\u001b[0;34m)\u001b[0m\u001b[0;34m\u001b[0m\u001b[0m\n\u001b[0m\u001b[1;32m    549\u001b[0m         \u001b[0;32melse\u001b[0m\u001b[0;34m:\u001b[0m\u001b[0;34m\u001b[0m\u001b[0m\n\u001b[1;32m    550\u001b[0m             \u001b[0;32mreturn\u001b[0m \u001b[0mparsed_response\u001b[0m\u001b[0;34m\u001b[0m\u001b[0m\n",
      "\u001b[0;31mClientError\u001b[0m: An error occurred (EntityTooLarge) when calling the PutObject operation: Your proposed upload exceeds the maximum allowed size"
     ]
    }
   ],
   "source": [
    "import time \n",
    "\n",
    "start = time.time()\n",
    "upload('/Users/sunq3/match_data/test2.tar')\n",
    "done = time.time()\n",
    "print 'consumed:', done - start"
   ]
  },
  {
   "cell_type": "code",
   "execution_count": 20,
   "metadata": {
    "collapsed": false
   },
   "outputs": [
    {
     "name": "stdout",
     "output_type": "stream",
     "text": [
      "done.\n",
      "consumed: 135.046941996\n"
     ]
    }
   ],
   "source": [
    "import time \n",
    "\n",
    "start = time.time()\n",
    "upload('/Users/sunq3/match_data/test3.tar')\n",
    "done = time.time()\n",
    "print 'consumed:', done - start"
   ]
  },
  {
   "cell_type": "code",
   "execution_count": 21,
   "metadata": {
    "collapsed": false
   },
   "outputs": [
    {
     "name": "stdout",
     "output_type": "stream",
     "text": [
      "done.\n",
      "consumed: 168.786673069\n"
     ]
    }
   ],
   "source": [
    "start = time.time()\n",
    "upload('/Users/sunq3/match_data/test4.tar')\n",
    "done = time.time()\n",
    "print 'consumed:', done - start"
   ]
  },
  {
   "cell_type": "code",
   "execution_count": 22,
   "metadata": {
    "collapsed": false
   },
   "outputs": [
    {
     "name": "stdout",
     "output_type": "stream",
     "text": [
      "done.\n",
      "consumed: 232.330732107\n"
     ]
    }
   ],
   "source": [
    "start = time.time()\n",
    "upload('/Users/sunq3/match_data/test5.tar')\n",
    "done = time.time()\n",
    "print 'consumed:', done - start"
   ]
  },
  {
   "cell_type": "code",
   "execution_count": 23,
   "metadata": {
    "collapsed": false
   },
   "outputs": [
    {
     "name": "stdout",
     "output_type": "stream",
     "text": [
      "done.\n",
      "consumed: 257.369575977\n"
     ]
    }
   ],
   "source": [
    "start = time.time()\n",
    "upload('/Users/sunq3/match_data/test6.tar')\n",
    "done = time.time()\n",
    "print 'consumed:', done - start"
   ]
  },
  {
   "cell_type": "code",
   "execution_count": 47,
   "metadata": {
    "collapsed": false
   },
   "outputs": [
    {
     "data": {
      "image/png": "[encoded data removed]",
      "text/plain": [
       "<matplotlib.figure.Figure at 0x10b53a650>"
      ]
     },
     "metadata": {},
     "output_type": "display_data"
    }
   ],
   "source": [
    "import numpy as np\n",
    "import matplotlib.pyplot as plt\n",
    "plt.style.use('ggplot')\n",
    "\n",
    "%matplotlib inline\n",
    "\n",
    "'''\n",
    "multi, test1: 42.2327740192\n",
    "multi, test2: 107.91958189\n",
    "multi, test3: 135.046941996\n",
    "multi, test4: 168.786673069\n",
    "multi, test5: 232.330732107\n",
    "multi, test6: 257.369575977\n",
    "'''\n",
    "\n",
    "multi = (42, 108, 135, 168, 232, 257)\n",
    "non_multi = (164, 0, 0, 0, 0, 0)\n",
    "ind = np.arange(6)\n",
    "\n",
    "width = 0.3\n",
    "\n",
    "fig, ax = plt.subplots()\n",
    "bar1 = ax.bar(ind,multi,width, color='g')\n",
    "bar2 = ax.bar(ind+width,non_multi,width, color='r')\n",
    "\n",
    "ax.set_ylabel('time in seconds')\n",
    "ax.set_title('s3 upload perfromance test - multi vs non-multi')\n",
    "ax.set_xticks(ind+width)\n",
    "ax.set_xticklabels(('4G','8G','12G','16G','20G','24G'))\n",
    "\n",
    "ax.text(2,250,'non-multi errored out at test2',horizontalalignment='center')\n",
    "\n",
    "ax.legend((bar1[0],bar2[0]),('multi','non-multi'))\n",
    "\n",
    "plt.show()\n",
    "\n",
    "\n",
    "\n",
    "\n"
   ]
  },
  {
   "cell_type": "code",
   "execution_count": null,
   "metadata": {
    "collapsed": true
   },
   "outputs": [],
   "source": []
  },
  {
   "cell_type": "code",
   "execution_count": null,
   "metadata": {
    "collapsed": true
   },
   "outputs": [],
   "source": []
  },
  {
   "cell_type": "code",
   "execution_count": null,
   "metadata": {
    "collapsed": true
   },
   "outputs": [],
   "source": []
  }
 ],
 "metadata": {
  "kernelspec": {
   "display_name": "Python 2",
   "language": "python",
   "name": "python2"
  },
  "language_info": {
   "codemirror_mode": {
    "name": "ipython",
    "version": 2
   },
   "file_extension": ".py",
   "mimetype": "text/x-python",
   "name": "python",
   "nbconvert_exporter": "python",
   "pygments_lexer": "ipython2",
   "version": "2.7.11"
  }
 },
 "nbformat": 4,
 "nbformat_minor": 0
}
