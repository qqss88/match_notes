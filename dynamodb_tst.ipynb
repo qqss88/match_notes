{
 "cells": [
  {
   "cell_type": "code",
   "execution_count": 1,
   "metadata": {
    "collapsed": false
   },
   "outputs": [
    {
     "name": "stdout",
     "output_type": "stream",
     "text": [
      "dynamodb.ServiceResource()\n"
     ]
    }
   ],
   "source": [
    "import boto3\n",
    "\n",
    "#get db cponnection\n",
    "dynamo_db = boto3.resource('dynamodb', region_name='us-west-2')\n",
    "print dynamo_db\n"
   ]
  },
  {
   "cell_type": "code",
   "execution_count": 2,
   "metadata": {
    "collapsed": false
   },
   "outputs": [
    {
     "name": "stdout",
     "output_type": "stream",
     "text": [
      "{'ResponseMetadata': {'HTTPStatusCode': 200, 'RequestId': 'OA5T169FPGSLMAN5MUJ5AS7U4VVV4KQNSO5AEMVJF66Q9ASUAAJG'}, u'TableNames': [u'Forum-sy', u'Reply', u'Thread-sy', u'biopsy_dev', u'biopsy_dev_2', u'biopsy_dev_3', u'biopsy_dev_4', u'no_template_sample_control', u'patient_dev', u'positive_sample_control', u'sy_patient_development', u'sy_patient_event_development', u'sy_patient_history_development', u'sy_patient_history_test', u'sy_patient_test', u'ta_basic_treatment_arm_development', u'ta_basic_treatment_arm_test', u'ta_treatment_arm_development', u'ta_treatment_arm_patient_development', u'ta_treatment_arm_test']}\n"
     ]
    }
   ],
   "source": [
    "#list all tables\n",
    "client = boto3.client('dynamodb', region_name='us-west-2')\n",
    "all_tables = client.list_tables()\n",
    "print all_tables"
   ]
  },
  {
   "cell_type": "code",
   "execution_count": 15,
   "metadata": {
    "collapsed": false
   },
   "outputs": [
    {
     "name": "stdout",
     "output_type": "stream",
     "text": [
      "dynamodb.Table(name='positive_sample_control')\n",
      "[{u'vcf_path': u'ped-match-sample-control/MoCha/SampleControl_MoCha_3_v2_SampleControl_MoCha_3_RNA_v2.vcf', u'nextGenerationSequence': {u'passed': False, u'positiveControls': [{u'hasMatchingVariant': False, u'positiveControl': {u'function': None, u'geneName': u'PIK3CA', u'dna': u'c.333G>C', u'reference': u'G', u'variantType': u'SNV', u'purpose': None, u'position': u'178916946', u'alternative': u'C', u'identifier': u'COSM12580', u'protein': u'p.Lys111Asn', u'chromosome': u'chr3'}}, {u'hasMatchingVariant': False, u'positiveControl': {u'function': u'missense', u'geneName': u'BRAF', u'dna': u'c.1799T>A', u'reference': u'A', u'variantType': u'SNV', u'purpose': u'Substitution', u'position': u'140453136', u'alternative': u'T', u'identifier': u'COSM476', u'protein': u'p.V600E', u'chromosome': u'chr7'}}, {u'hasMatchingVariant': False, u'positiveControl': {u'function': None, u'geneName': u'BRCA2', u'dna': u'c.9281C>A', u'reference': u'C', u'variantType': u'SNV', u'purpose': None, u'position': u'32968850', u'alternative': u'A', u'identifier': u'.', u'protein': u'p.Ser3094Ter', u'chromosome': u'chr13'}}, {u'hasMatchingVariant': False, u'positiveControl': {u'function': None, u'geneName': u'PTEN', u'dna': u'c.741_742insA', u'reference': u'-', u'variantType': u'Indel', u'purpose': None, u'position': u'89717716', u'alternative': u'A', u'identifier': u'.', u'protein': u'p.Pro248fs', u'chromosome': u'chr10'}}, {u'hasMatchingVariant': False, u'positiveControl': {u'function': None, u'geneName': u'RB1', u'dna': u'c.346_349delACTT', u'reference': u'ACTT', u'variantType': u'Indel', u'purpose': None, u'position': u'48916816', u'alternative': u'-', u'identifier': None, u'protein': u'p.T116fs*8', u'chromosome': u'chr13'}}, {u'hasMatchingVariant': False, u'positiveControl': {u'function': None, u'geneName': u'TP53', u'dna': u'c.1023delC', u'reference': u'G', u'variantType': u'Indel', u'purpose': None, u'position': u'7574003', u'alternative': u'-', u'identifier': u'.', u'protein': u'p.R342fs*3', u'chromosome': u'chr17'}}, {u'hasMatchingVariant': False, u'positiveControl': {u'function': None, u'geneName': u'ERBB2', u'dna': None, u'reference': None, u'variantType': u'CNV', u'purpose': u'CNV', u'position': None, u'alternative': None, u'identifier': None, u'protein': None, u'chromosome': u'chr17'}}, {u'hasMatchingVariant': False, u'positiveControl': {u'function': None, u'geneName': u'RPS6KB1', u'dna': None, u'reference': None, u'variantType': u'CNV', u'purpose': None, u'position': None, u'alternative': None, u'identifier': None, u'protein': None, u'chromosome': u'chr17'}}, {u'hasMatchingVariant': False, u'positiveControl': {u'function': None, u'geneName': u'ZNF217', u'dna': None, u'reference': None, u'variantType': u'CNV', u'purpose': None, u'position': None, u'alternative': None, u'identifier': None, u'protein': None, u'chromosome': u'chr20'}}, {u'hasMatchingVariant': False, u'positiveControl': {u'function': None, u'geneName': u'ALK', u'dna': u'EML4-ALK', u'reference': None, u'variantType': u'Fusion', u'purpose': u'Fusion', u'position': None, u'alternative': u'EML4-ALK.E6aA20', u'identifier': u'AB374361', u'protein': None, u'chromosome': None}}, {u'hasMatchingVariant': False, u'positiveControl': {u'function': None, u'geneName': u'ALK', u'dna': u'EML4-ALK', u'reference': None, u'variantType': u'Fusion', u'purpose': u'Fusion', u'position': None, u'alternative': u'EML4-ALK.E6bA20', u'identifier': u'AB374362', u'protein': None, u'chromosome': None}}], u'variantReport': {u'unified_gene_fusions': [], u'non_hotspot_rules': [], u'indels': [], u'single_nucleotide_variants': [], u'copy_number_variants': [], u'gene_fusions': []}, u'positiveControlVersion': Decimal('1'), u'matchingCriteria': {u'CNV': u'Matching criteria for CNV: Gene', u'SNV': u'Matching criteria for SNV: Chromosone, Position, Reference and Alternative.', u'Fusion': u'Matching criteria for Fusion: ID', u'Indel': u'Matching criteria for Indel: Chromosone, Position, Reference and Alternative.'}, u'falsePositives': []}, u'tsv_path': u'ped-match-sample-control/MoCha/SampleControl_MoCha_3_v2_SampleControl_MoCha_3_RNA_v2.tsv', u'site': u'MoCha', u'cdna_bam_path': u'ped-match-sample-control/MoCha/SampleControl_MoCha_3_v2_SampleControl_MoCha_3_RNA_v2.bam', u'date_control_data_loaded': u'2016-08-11 18:27:43-0500', u'cdna_bai_path': u'ped-match-sample-control/MoCha/SampleControl_MoCha_3_v2_SampleControl_MoCha_3_RNA_v2.bai', u'analysis_id': u'SampleControl_MoCha_3_v2_SampleControl_MoCha_3_RNA_v2', u'dna_bam_path': u'ped-match-sample-control/MoCha/SampleControl_MoCha_3_v2_SampleControl_MoCha_3_DNA_v2.bam', u'dna_bai_path': u'ped-match-sample-control/MoCha/SampleControl_MoCha_3_v2_SampleControl_MoCha_3_DNA_v2.bai', u'date_molecular_id_created': u'2016-08-11 18:17:01-0500', u'molecular_id': u'MoCha_3', u'site_ip_address': u'129.43.127.133'}, {u'site': u'MoCha', u'site_ip_address': u'129.43.127.133', u'molecular_id': u'MoCha_4', u'date_molecular_id_created': u'2016-08-11 18:17:09-0500'}, {u'site': u'MoCha', u'site_ip_address': u'129.43.127.133', u'molecular_id': u'MoCha_5', u'date_molecular_id_created': u'2016-08-11 18:17:34-0500'}]\n"
     ]
    }
   ],
   "source": [
    "import json\n",
    "\n",
    "sample_control_table = dynamo_db.Table('positive_sample_control')\n",
    "print sample_control_table\n",
    "\n",
    "response = sample_control_table.scan()\n",
    "items = response.get('Items')\n",
    "\n",
    "\n",
    "print items\n",
    "    \n"
   ]
  },
  {
   "cell_type": "code",
   "execution_count": 27,
   "metadata": {
    "collapsed": false
   },
   "outputs": [
    {
     "name": "stdout",
     "output_type": "stream",
     "text": [
      "total item count: 3\n"
     ]
    }
   ],
   "source": [
    "from boto3.dynamodb.conditions import Key\n",
    "import json\n",
    "import decimal\n",
    "\n",
    "# Helper class to convert a DynamoDB item to JSON.\n",
    "class DecimalEncoder(json.JSONEncoder):\n",
    "    def default(self, o):\n",
    "        if isinstance(o, decimal.Decimal):\n",
    "            return str(o)\n",
    "        return super(DecimalEncoder, self).default(o)\n",
    "\n",
    "site = 'MoCha'\n",
    "response = sample_control_table.query(\n",
    "            KeyConditionExpression=Key('site').eq('MoCha')\n",
    "        )\n",
    "print 'total item count:', response[u'Count']\n",
    "\n"
   ]
  },
  {
   "cell_type": "code",
   "execution_count": 28,
   "metadata": {
    "collapsed": false
   },
   "outputs": [
    {
     "name": "stdout",
     "output_type": "stream",
     "text": [
      "item_molecular_id: MoCha_3\n",
      "item_molecular_id: MoCha_4\n",
      "item_molecular_id: MoCha_5\n"
     ]
    }
   ],
   "source": [
    "for i in response[u'Items']:\n",
    "    print 'item_molecular_id:', i['molecular_id']\n",
    "    #print(json.dumps(i, cls=DecimalEncoder))"
   ]
  },
  {
   "cell_type": "code",
   "execution_count": 33,
   "metadata": {
    "collapsed": false
   },
   "outputs": [
    {
     "name": "stdout",
     "output_type": "stream",
     "text": [
      "total item count: 1\n",
      "item_molecular_id: SampleControl_MoCha_5\n"
     ]
    }
   ],
   "source": [
    "response = sample_control_table.query(\n",
    "            KeyConditionExpression=Key('site').eq('MoCha'), ScanIndexForward=False, Limit=1\n",
    "        )\n",
    "print 'total item count:', response[u'Count']\n",
    "for i in response[u'Items']:\n",
    "    print 'item_molecular_id:', i['molecular_id']"
   ]
  },
  {
   "cell_type": "code",
   "execution_count": 35,
   "metadata": {
    "collapsed": false
   },
   "outputs": [
    {
     "name": "stdout",
     "output_type": "stream",
     "text": [
      "SampleControl_MoCha_6\n"
     ]
    }
   ],
   "source": [
    "latest_molecular_id = 'SampleControl_MoCha_5'\n",
    "new_molecular_id = '_'.join(latest_molecular_id.split('_')[:-1])+'_'+str(int(latest_molecular_id.split('_')[-1])+1)\n",
    "print new_molecular_id"
   ]
  },
  {
   "cell_type": "code",
   "execution_count": 36,
   "metadata": {
    "collapsed": false
   },
   "outputs": [
    {
     "name": "stdout",
     "output_type": "stream",
     "text": [
      "{u'Count': 1, u'Items': [{u'site': u'MoCha', u'site_ip_address': u'129.43.127.133', u'molecular_id': u'SampleControl_MoCha_5', u'date_molecular_id_created': u'2016-08-11 19:23:35-0500'}], u'LastEvaluatedKey': {u'date_molecular_id_created': u'2016-08-11 19:23:35-0500', u'site': u'MoCha'}, u'ScannedCount': 1, 'ResponseMetadata': {'HTTPStatusCode': 200, 'RequestId': '0TP60FVNU3IAOEQTPLRDSQKJC7VV4KQNSO5AEMVJF66Q9ASUAAJG'}}\n"
     ]
    }
   ],
   "source": [
    "response = sample_control_table.query(\n",
    "            KeyConditionExpression=Key('site').eq('MoCha'), ScanIndexForward=False, Limit=1\n",
    "        )\n",
    "print response"
   ]
  },
  {
   "cell_type": "code",
   "execution_count": 38,
   "metadata": {
    "collapsed": false
   },
   "outputs": [
    {
     "name": "stdout",
     "output_type": "stream",
     "text": [
      "[u'SampleControl_MoCha_3', u'SampleControl_MoCha_4', u'SampleControl_MoCha_5']\n",
      "molecular id exist?\n",
      "True\n"
     ]
    }
   ],
   "source": [
    "#validate molecualr id existense\n",
    "molecular_id = 'SampleControl_MoCha_5'\n",
    "site = molecular_id.split('_')[1]\n",
    "response = sample_control_table.query(\n",
    "            KeyConditionExpression=Key('site').eq(site)\n",
    "        )\n",
    "ids = []\n",
    "for i in response[u'Items']:\n",
    "    ids.append(i['molecular_id'])\n",
    "print ids\n",
    "print 'molecular id exist?'\n",
    "print molecular_id in ids"
   ]
  },
  {
   "cell_type": "code",
   "execution_count": null,
   "metadata": {
    "collapsed": true
   },
   "outputs": [],
   "source": []
  }
 ],
 "metadata": {
  "kernelspec": {
   "display_name": "Python 2",
   "language": "python",
   "name": "python2"
  },
  "language_info": {
   "codemirror_mode": {
    "name": "ipython",
    "version": 2
   },
   "file_extension": ".py",
   "mimetype": "text/x-python",
   "name": "python",
   "nbconvert_exporter": "python",
   "pygments_lexer": "ipython2",
   "version": "2.7.11"
  }
 },
 "nbformat": 4,
 "nbformat_minor": 0
}
