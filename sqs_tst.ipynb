{
 "cells": [
  {
   "cell_type": "code",
   "execution_count": 1,
   "metadata": {
    "collapsed": false
   },
   "outputs": [
    {
     "name": "stdout",
     "output_type": "stream",
     "text": [
      "https://queue.amazonaws.com/127516845550/biomatch_tst\n",
      "5\n"
     ]
    }
   ],
   "source": [
    "import boto3\n",
    "\n",
    "# Get the service resource\n",
    "sqs = boto3.resource('sqs')\n",
    "\n",
    "# Create the queue. This returns an SQS.Queue instance\n",
    "queue = sqs.create_queue(QueueName='biomatch_tst', Attributes={'DelaySeconds': '5'})\n",
    "\n",
    "# You can now access identifiers and attributes\n",
    "print(queue.url)\n",
    "print(queue.attributes.get('DelaySeconds'))"
   ]
  },
  {
   "cell_type": "code",
   "execution_count": 3,
   "metadata": {
    "collapsed": false
   },
   "outputs": [
    {
     "name": "stdout",
     "output_type": "stream",
     "text": [
      "https://queue.amazonaws.com/127516845550/biomatch_tst\n",
      "5\n"
     ]
    }
   ],
   "source": [
    "\n",
    "queue2 = sqs.get_queue_by_name(QueueName='biomatch_tst')\n",
    "\n",
    "# You can now access identifiers and attributes\n",
    "print(queue2.url)\n",
    "print(queue2.attributes.get('DelaySeconds'))"
   ]
  },
  {
   "cell_type": "code",
   "execution_count": 12,
   "metadata": {
    "collapsed": false
   },
   "outputs": [
    {
     "name": "stdout",
     "output_type": "stream",
     "text": [
      "https://us-west-2.queue.amazonaws.com/127516845550/ir_queue_dev\n",
      "0\n"
     ]
    }
   ],
   "source": [
    "sqs_west = boto3.resource('sqs', region_name='us-west-2')\n",
    "queue3 = sqs_west.get_queue_by_name(QueueName='ir_queue_dev')\n",
    "print(queue3.url)\n",
    "#print(queue3.attributes.get('DelaySeconds'))\n",
    "print len(queue.receive_messages())"
   ]
  },
  {
   "cell_type": "code",
   "execution_count": 4,
   "metadata": {
    "collapsed": false
   },
   "outputs": [
    {
     "name": "stdout",
     "output_type": "stream",
     "text": [
      "https://queue.amazonaws.com/127516845550/biomatch_tst\n",
      "https://queue.amazonaws.com/127516845550/ed_ta_dev\n",
      "https://queue.amazonaws.com/127516845550/fut_treatment_arm_queue\n",
      "https://queue.amazonaws.com/127516845550/lw_patient_development\n",
      "https://queue.amazonaws.com/127516845550/lw_treatment_arm_development\n",
      "https://queue.amazonaws.com/127516845550/lw_treatment_arm_test\n",
      "https://queue.amazonaws.com/127516845550/patient_development\n",
      "https://queue.amazonaws.com/127516845550/patient_events_test_raseel\n",
      "https://queue.amazonaws.com/127516845550/patient_processor_dev_ramaniv\n",
      "https://queue.amazonaws.com/127516845550/patient_processor_dev_zakharovrv\n",
      "https://queue.amazonaws.com/127516845550/patient_processor_test_raseel\n",
      "https://queue.amazonaws.com/127516845550/rm_patient_development\n",
      "https://queue.amazonaws.com/127516845550/rm_treatment_arm_development\n",
      "https://queue.amazonaws.com/127516845550/rm_treatment_arm_test\n",
      "https://queue.amazonaws.com/127516845550/se_patient_dev\n",
      "https://queue.amazonaws.com/127516845550/se_treatment_arm_development\n",
      "https://queue.amazonaws.com/127516845550/sy_patient_development\n",
      "https://queue.amazonaws.com/127516845550/sy_treatment_arm_development\n",
      "https://queue.amazonaws.com/127516845550/ta_dev_jv\n",
      "https://queue.amazonaws.com/127516845550/ta_dev_zakharovrv\n",
      "https://queue.amazonaws.com/127516845550/treatment_arm_development\n",
      "https://queue.amazonaws.com/127516845550/treatment_arm_test\n",
      "https://queue.amazonaws.com/127516845550/vr_patient_development\n",
      "https://queue.amazonaws.com/127516845550/vr_treatment_arm_development\n",
      "https://queue.amazonaws.com/127516845550/ys_patient_development\n"
     ]
    }
   ],
   "source": [
    "# Print out each queue name, which is part of its ARN\n",
    "for queue in sqs.queues.all():\n",
    "    print(queue.url)"
   ]
  },
  {
   "cell_type": "code",
   "execution_count": 5,
   "metadata": {
    "collapsed": false
   },
   "outputs": [
    {
     "name": "stdout",
     "output_type": "stream",
     "text": [
      "c7ff87c0-25c1-4821-b0e2-61884b687488\n",
      "7d793037a0760186574b0282f2f435e7\n",
      "{u'MD5OfMessageBody': '7d793037a0760186574b0282f2f435e7', 'ResponseMetadata': {'HTTPStatusCode': 200, 'RequestId': '5a73f62f-d0a1-5bc9-8fd1-a60aa9ca0bf6'}, u'MessageId': 'c7ff87c0-25c1-4821-b0e2-61884b687488'}\n"
     ]
    }
   ],
   "source": [
    "response = queue2.send_message(MessageBody='world')\n",
    "\n",
    "# The response is NOT a resource, but gives you a message ID and MD5\n",
    "print(response.get('MessageId'))\n",
    "print(response.get('MD5OfMessageBody'))\n",
    "print response"
   ]
  },
  {
   "cell_type": "code",
   "execution_count": 6,
   "metadata": {
    "collapsed": false
   },
   "outputs": [
    {
     "name": "stdout",
     "output_type": "stream",
     "text": [
      "{u'MD5OfMessageBody': '6686853da3491a56c98917cc5c4ddea2', u'MD5OfMessageAttributes': 'd57be2825f78cdc7112c0f9dc4b21231', 'ResponseMetadata': {'HTTPStatusCode': 200, 'RequestId': '33541df6-d073-5ecf-b558-4dd3aa62238f'}, u'MessageId': '9f792718-43b0-4b3b-a744-5c1f3e0dd19b'}\n"
     ]
    }
   ],
   "source": [
    "response = queue2.send_message(MessageBody='boto3', MessageAttributes={\n",
    "    'Author': {\n",
    "        'StringValue': 'Daniel',\n",
    "        'DataType': 'String'\n",
    "    }\n",
    "})\n",
    "print response"
   ]
  },
  {
   "cell_type": "code",
   "execution_count": 7,
   "metadata": {
    "collapsed": false
   },
   "outputs": [
    {
     "name": "stdout",
     "output_type": "stream",
     "text": [
      "hello world\n"
     ]
    }
   ],
   "source": [
    "print 'hello world'"
   ]
  },
  {
   "cell_type": "code",
   "execution_count": 15,
   "metadata": {
    "collapsed": false
   },
   "outputs": [
    {
     "name": "stdout",
     "output_type": "stream",
     "text": [
      "{u'MD5OfMessageBody': 'd8412be06dc94465601bd0c7a48909f8', 'ResponseMetadata': {'HTTPStatusCode': 200, 'RequestId': 'cdf4601a-134f-5bc1-9883-303f6d91fbdf'}, u'MessageId': '1d58aa92-bbee-4f32-9e7c-a7d5ab0cd63f'}\n"
     ]
    }
   ],
   "source": [
    "patient_id = request.args.get['patient_id']\n",
    "\n",
    "message_body = '''{\n",
    "  \"patient_id\": %s,\n",
    "  \"molecular_id\": %s,\n",
    "  \"analysis_id\": \"job2\",\n",
    "  \"s3_bucket_name\": \"pedmatch-demo/3344/3344-bsn-msn-blood/job2\",\n",
    "  \"tsv_file_path_name\": \"3344-blood.tsv\",\n",
    "  \"vcf_file_path_name\": \"3344-blood.vcf\",\n",
    "  \"dna_bam_file_path_name\": \"dna.bam\",\n",
    "  \"cdna_bam_file_path_name\": \"cdna.bam\",\n",
    "  \"dna_bai_file_path_name\": \"dna.bam.bai\",\n",
    "  \"cdna_bai_file_path_name\": \"cdna.bam.bai\"\n",
    "}'''%{patient_id, molecular_id}\n",
    "response = queue3.send_message(MessageBody=message_body)\n",
    "print response"
   ]
  },
  {
   "cell_type": "code",
   "execution_count": 18,
   "metadata": {
    "collapsed": false
   },
   "outputs": [
    {
     "name": "stdout",
     "output_type": "stream",
     "text": [
      "{\n",
      "  \"patient_id\": \"3344\",\n",
      "  \"molecular_id\": \"3344-bsn-msn-blood\",\n",
      "  \"analysis_id\": \"job2\",\n",
      "  \"s3_bucket_name\": \"pedmatch-demo/3344/3344-bsn-msn-blood/job2\",\n",
      "  \"tsv_file_path_name\": \"3344-blood.tsv\",\n",
      "  \"vcf_file_path_name\": \"3344-blood.vcf\",\n",
      "  \"dna_bam_file_path_name\": \"dna.bam\",\n",
      "  \"cdna_bam_file_path_name\": \"cdna.bam\",\n",
      "  \"dna_bai_file_path_name\": \"dna.bam.bai\",\n",
      "  \"cdna_bai_file_path_name\": \"cdna.bam.bai\"\n",
      "}\n",
      "None\n"
     ]
    }
   ],
   "source": [
    "for message in queue3.receive_messages():\n",
    "    print message.body\n",
    "    print message.message_attributes"
   ]
  },
  {
   "cell_type": "code",
   "execution_count": 20,
   "metadata": {
    "collapsed": false
   },
   "outputs": [
    {
     "name": "stdout",
     "output_type": "stream",
     "text": [
      "None\n"
     ]
    }
   ],
   "source": [
    "response = queue3.send_messages(Entries=[\n",
    "    {\n",
    "        'Id': '1',\n",
    "        'MessageBody': 'qqss1'\n",
    "    },\n",
    "    {\n",
    "        'Id': '2',\n",
    "        'MessageBody': 'qqss2',\n",
    "        'MessageAttributes': {\n",
    "            'Author': {\n",
    "                'StringValue': 'Daniel',\n",
    "                'DataType': 'String'\n",
    "            }\n",
    "        }\n",
    "    }\n",
    "])\n",
    "\n",
    "# Print out any failures\n",
    "print(response.get('Failed'))"
   ]
  },
  {
   "cell_type": "code",
   "execution_count": 21,
   "metadata": {
    "collapsed": false
   },
   "outputs": [
    {
     "name": "stdout",
     "output_type": "stream",
     "text": [
      "Hello, {\n",
      "  \"patient_id\": \"3344\",\n",
      "  \"molecular_id\": \"3344-bsn-msn-blood\",\n",
      "  \"analysis_id\": \"job2\",\n",
      "  \"s3_bucket_name\": \"pedmatch-demo/3344/3344-bsn-msn-blood/job2\",\n",
      "  \"tsv_file_path_name\": \"3344-blood.tsv\",\n",
      "  \"vcf_file_path_name\": \"3344-blood.vcf\",\n",
      "  \"dna_bam_file_path_name\": \"dna.bam\",\n",
      "  \"cdna_bam_file_path_name\": \"cdna.bam\",\n",
      "  \"dna_bai_file_path_name\": \"dna.bam.bai\",\n",
      "  \"cdna_bai_file_path_name\": \"cdna.bam.bai\"\n",
      "}!\n"
     ]
    }
   ],
   "source": [
    "# Process messages by printing out body and optional author name, then delete it\n",
    "for message in queue3.receive_messages(MessageAttributeNames=['Author']):\n",
    "    # Get the custom author message attribute if it was set\n",
    "    author_text = ''\n",
    "    if message.message_attributes is not None:\n",
    "        author_name = message.message_attributes.get('Author').get('StringValue')\n",
    "        if author_name:\n",
    "            author_text = ' ({0})'.format(author_name)\n",
    "\n",
    "    # Print out the body and author (if set)\n",
    "    print('Hello, {0}!{1}'.format(message.body, author_text))\n",
    "\n",
    "    # Let the queue know that the message is processed\n",
    "    message.delete()"
   ]
  },
  {
   "cell_type": "code",
   "execution_count": null,
   "metadata": {
    "collapsed": true
   },
   "outputs": [],
   "source": []
  },
  {
   "cell_type": "code",
   "execution_count": 22,
   "metadata": {
    "collapsed": false
   },
   "outputs": [
    {
     "name": "stdout",
     "output_type": "stream",
     "text": [
      "1\n"
     ]
    }
   ],
   "source": [
    "print len(queue3.receive_messages())"
   ]
  },
  {
   "cell_type": "code",
   "execution_count": 23,
   "metadata": {
    "collapsed": false
   },
   "outputs": [
    {
     "name": "stdout",
     "output_type": "stream",
     "text": [
      "{\n",
      "  \"patient_id\": \"3344\",\n",
      "  \"molecular_id\": \"3344-bsn-msn-blood\",\n",
      "  \"analysis_id\": \"job2\",\n",
      "  \"s3_bucket_name\": \"pedmatch-demo/3344/3344-bsn-msn-blood/job2\",\n",
      "  \"tsv_file_path_name\": \"3344-blood.tsv\",\n",
      "  \"vcf_file_path_name\": \"3344-blood.vcf\",\n",
      "  \"dna_bam_file_path_name\": \"dna.bam\",\n",
      "  \"cdna_bam_file_path_name\": \"cdna.bam\",\n",
      "  \"dna_bai_file_path_name\": \"dna.bam.bai\",\n",
      "  \"cdna_bai_file_path_name\": \"cdna.bam.bai\"\n",
      "}\n"
     ]
    }
   ],
   "source": [
    "for message in queue3.receive_messages():\n",
    "    print message.body\n",
    "    message.delete()\n"
   ]
  },
  {
   "cell_type": "code",
   "execution_count": 24,
   "metadata": {
    "collapsed": false
   },
   "outputs": [
    {
     "name": "stdout",
     "output_type": "stream",
     "text": [
      "1\n"
     ]
    }
   ],
   "source": [
    "print len(queue3.receive_messages())"
   ]
  },
  {
   "cell_type": "code",
   "execution_count": null,
   "metadata": {
    "collapsed": true
   },
   "outputs": [],
   "source": []
  },
  {
   "cell_type": "code",
   "execution_count": null,
   "metadata": {
    "collapsed": true
   },
   "outputs": [],
   "source": []
  },
  {
   "cell_type": "code",
   "execution_count": null,
   "metadata": {
    "collapsed": true
   },
   "outputs": [],
   "source": []
  },
  {
   "cell_type": "code",
   "execution_count": null,
   "metadata": {
    "collapsed": true
   },
   "outputs": [],
   "source": []
  },
  {
   "cell_type": "code",
   "execution_count": null,
   "metadata": {
    "collapsed": true
   },
   "outputs": [],
   "source": []
  },
  {
   "cell_type": "code",
   "execution_count": null,
   "metadata": {
    "collapsed": true
   },
   "outputs": [],
   "source": []
  }
 ],
 "metadata": {
  "kernelspec": {
   "display_name": "Python 2",
   "language": "python",
   "name": "python2"
  },
  "language_info": {
   "codemirror_mode": {
    "name": "ipython",
    "version": 2
   },
   "file_extension": ".py",
   "mimetype": "text/x-python",
   "name": "python",
   "nbconvert_exporter": "python",
   "pygments_lexer": "ipython2",
   "version": "2.7.11"
  }
 },
 "nbformat": 4,
 "nbformat_minor": 0
}
